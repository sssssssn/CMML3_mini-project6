{
 "cells": [
  {
   "cell_type": "code",
   "execution_count": null,
   "id": "94d22956",
   "metadata": {},
   "outputs": [],
   "source": [
    "import nglview as ng\n",
    "import pandas as pd\n",
    "import mdtraj as md\n",
    "import os"
   ]
  },
  {
   "cell_type": "code",
   "execution_count": null,
   "id": "417b5a48",
   "metadata": {},
   "outputs": [],
   "source": [
    "!pwd"
   ]
  },
  {
   "cell_type": "code",
   "execution_count": null,
   "id": "15e15be8",
   "metadata": {},
   "outputs": [],
   "source": [
    "os.chdir(\"../\")\n",
    "%ls"
   ]
  },
  {
   "cell_type": "code",
   "execution_count": null,
   "id": "fb995dc3",
   "metadata": {},
   "outputs": [],
   "source": [
    "!tree"
   ]
  },
  {
   "cell_type": "code",
   "execution_count": null,
   "id": "125016f6",
   "metadata": {},
   "outputs": [],
   "source": [
    "os.chdir(\"./output_files\")\n",
    "%pwd"
   ]
  },
  {
   "cell_type": "markdown",
   "id": "3ac259e1",
   "metadata": {},
   "source": [
    "# Obtaining the input for a simulation"
   ]
  },
  {
   "cell_type": "code",
   "execution_count": null,
   "id": "1b68a799",
   "metadata": {},
   "outputs": [],
   "source": [
    "%ls ../input_files/user_file/"
   ]
  },
  {
   "cell_type": "code",
   "execution_count": null,
   "id": "c9246c2c",
   "metadata": {},
   "outputs": [],
   "source": [
    "\n",
    "view = ng.show_structure_file(\"../input_files/user_file/2b42_Swissmodel.pdb\")\n",
    "view"
   ]
  },
  {
   "cell_type": "markdown",
   "id": "9975f040",
   "metadata": {},
   "source": [
    "## Cleaning the input structure"
   ]
  },
  {
   "cell_type": "code",
   "execution_count": null,
   "id": "c00f8c6b",
   "metadata": {},
   "outputs": [],
   "source": [
    "\n",
    "!grep -v HETATM ../input_files/user_file/2b42_Swissmodel.pdb > 2b42_Swissmodel_protein_tmp.pdb\n",
    "!grep -v CONECT 2b42_Swissmodel_protein_tmp.pdb > 2b42_Swissmodel_protein.pdb"
   ]
  },
  {
   "cell_type": "markdown",
   "id": "80987e52",
   "metadata": {},
   "source": [
    "The cleaned structure now looks like this:"
   ]
  },
  {
   "cell_type": "code",
   "execution_count": null,
   "id": "66ccb230",
   "metadata": {},
   "outputs": [],
   "source": [
    "view = ng.show_structure_file(\"2b42_Swissmodel_protein.pdb\")\n",
    "view"
   ]
  },
  {
   "cell_type": "code",
   "execution_count": null,
   "id": "2ec10005",
   "metadata": {},
   "outputs": [],
   "source": [
    "!grep MISSING ../input_files/user_file/2b42_Swissmodel.pdb"
   ]
  },
  {
   "cell_type": "markdown",
   "id": "8212d168",
   "metadata": {},
   "source": [
    "## Generating a topology"
   ]
  },
  {
   "cell_type": "code",
   "execution_count": null,
   "id": "3bd5f75b",
   "metadata": {},
   "outputs": [],
   "source": [
    "!gmx pdb2gmx -f 2b42_Swissmodel_protein.pdb -o 2b42_Swissmodel_processed.gro -water tip3p -ff \"charmm27\""
   ]
  },
  {
   "cell_type": "markdown",
   "id": "7cbbba88",
   "metadata": {},
   "source": [
    "## A peek at the generated files"
   ]
  },
  {
   "cell_type": "code",
   "execution_count": null,
   "id": "117edd2b",
   "metadata": {},
   "outputs": [],
   "source": [
    "!ls"
   ]
  },
  {
   "cell_type": "markdown",
   "id": "0113a692",
   "metadata": {},
   "source": [
    "# Solvating the simulation system"
   ]
  },
  {
   "cell_type": "markdown",
   "id": "e9f0b5d7",
   "metadata": {},
   "source": [
    "## Defining the simulation box"
   ]
  },
  {
   "cell_type": "code",
   "execution_count": null,
   "id": "05f03982",
   "metadata": {},
   "outputs": [],
   "source": [
    "!gmx editconf -f 2b42_Swissmodel_processed.gro -o 2b42_Swissmodel_newbox.gro -c -d 1.0 -bt dodecahedron"
   ]
  },
  {
   "cell_type": "code",
   "execution_count": null,
   "id": "e5f4547d",
   "metadata": {},
   "outputs": [],
   "source": [
    "!gmx solvate -cp 2b42_Swissmodel_newbox.gro -cs spc216.gro -o 2b42_Swissmodel_solv.gro -p topol.top"
   ]
  },
  {
   "cell_type": "code",
   "execution_count": null,
   "id": "4b224413",
   "metadata": {},
   "outputs": [],
   "source": [
    "!tail topol.top"
   ]
  },
  {
   "cell_type": "code",
   "execution_count": null,
   "id": "56c6c915",
   "metadata": {},
   "outputs": [],
   "source": [
    "view = ng.show_structure_file(\"2b42_Swissmodel_solv.gro\")\n",
    "view.add_representation(repr_type='ball+stick', selection='SOL')\n",
    "view.camera='orthographic'\n",
    "view"
   ]
  },
  {
   "cell_type": "markdown",
   "id": "c5005a42",
   "metadata": {},
   "source": [
    "# Adding Ions"
   ]
  },
  {
   "cell_type": "markdown",
   "id": "fa689f25",
   "metadata": {},
   "source": [
    "## Preparing the input for \"gmx genion\""
   ]
  },
  {
   "cell_type": "code",
   "execution_count": null,
   "id": "7e9cd201",
   "metadata": {},
   "outputs": [],
   "source": [
    "!touch ions.mdp"
   ]
  },
  {
   "cell_type": "code",
   "execution_count": null,
   "id": "d6094da6",
   "metadata": {},
   "outputs": [],
   "source": [
    "!gmx grompp -f ions.mdp -c 2b42_Swissmodel_solv.gro -p topol.top -o ions.tpr"
   ]
  },
  {
   "cell_type": "code",
   "execution_count": null,
   "id": "03aa6bb7",
   "metadata": {},
   "outputs": [],
   "source": [
    "!printf \"SOL\\n\" | gmx genion -s ions.tpr -o 2b42_Swissmodel_solv_ions.gro -conc 0.15 -p \\\n",
    "topol.top -pname NA -nname CL -neutral"
   ]
  },
  {
   "cell_type": "code",
   "execution_count": null,
   "id": "a11301fb",
   "metadata": {},
   "outputs": [],
   "source": [
    "!tail -6 topol.top"
   ]
  },
  {
   "cell_type": "code",
   "execution_count": null,
   "id": "c5fb8f0a",
   "metadata": {},
   "outputs": [],
   "source": [
    "view = ng.show_structure_file(\"2b42_Swissmodel_solv_ions.gro\")\n",
    "view.add_representation(repr_type='spacefill', selection='NA')\n",
    "view.add_representation(repr_type='spacefill', selection='CL')\n",
    "view.add_representation(repr_type='ball+stick', selection='SOL')\n",
    "view.camera='orthographic'\n",
    "view"
   ]
  },
  {
   "cell_type": "markdown",
   "id": "f46952e4",
   "metadata": {},
   "source": [
    "# Energy minimisation"
   ]
  },
  {
   "cell_type": "code",
   "execution_count": null,
   "id": "315a5799",
   "metadata": {},
   "outputs": [],
   "source": [
    "!cat ../input_files/file_assets/emin-charmm.mdp"
   ]
  },
  {
   "cell_type": "code",
   "execution_count": null,
   "id": "3261f1c2",
   "metadata": {},
   "outputs": [],
   "source": [
    "!gmx grompp -f ../input_files/file_assets/emin-charmm.mdp -c 2b42_Swissmodel_solv_ions.gro -p topol.top -o em.tpr"
   ]
  },
  {
   "cell_type": "code",
   "execution_count": null,
   "id": "103275e5",
   "metadata": {},
   "outputs": [],
   "source": [
    "!gmx mdrun -v -deffnm em -ntmpi 1 -ntomp 1"
   ]
  },
  {
   "cell_type": "markdown",
   "id": "3bff664b",
   "metadata": {},
   "source": [
    "## Determining if the run was successful"
   ]
  },
  {
   "cell_type": "markdown",
   "id": "7c24790c",
   "metadata": {},
   "source": [
    "## Analysing the run results"
   ]
  },
  {
   "cell_type": "code",
   "execution_count": null,
   "id": "c2a884f8",
   "metadata": {},
   "outputs": [],
   "source": [
    "!printf \"Potential\\n0\\n\" | gmx energy -f em.edr -o potential.xvg -xvg none"
   ]
  },
  {
   "cell_type": "code",
   "execution_count": null,
   "id": "76c14029",
   "metadata": {},
   "outputs": [],
   "source": [
    "df = pd.read_csv('potential.xvg', sep='\\\\s+', header=None, names=['step','energy'])\n",
    "df.plot('step')"
   ]
  },
  {
   "cell_type": "markdown",
   "id": "706734d0",
   "metadata": {},
   "source": [
    "# Position restraints "
   ]
  },
  {
   "cell_type": "code",
   "execution_count": null,
   "id": "82abec1f",
   "metadata": {},
   "outputs": [],
   "source": [
    "!head -5 ../input_files/file_assets/nvt-charmm.mdp "
   ]
  },
  {
   "cell_type": "markdown",
   "id": "bb44452b",
   "metadata": {},
   "source": [
    "# Equilibration run - temperature"
   ]
  },
  {
   "cell_type": "code",
   "execution_count": null,
   "id": "4fa3c6bc",
   "metadata": {},
   "outputs": [],
   "source": [
    "!cat ../input_files/file_assets/nvt-charmm.mdp"
   ]
  },
  {
   "cell_type": "code",
   "execution_count": null,
   "id": "9176ef79",
   "metadata": {},
   "outputs": [],
   "source": [
    "!gmx grompp -f ../input_files/file_assets/nvt-charmm.mdp -c em.gro -r em.gro -p topol.top -o nvt.tpr \n",
    "!gmx mdrun -ntmpi 1 -ntomp 8 -v -deffnm nvt"
   ]
  },
  {
   "cell_type": "code",
   "execution_count": null,
   "id": "fe695593",
   "metadata": {},
   "outputs": [],
   "source": [
    "!echo \"Temperature\" | gmx energy -f nvt.edr -o temperature.xvg -xvg none -b 20"
   ]
  },
  {
   "cell_type": "code",
   "execution_count": null,
   "id": "7ca916ff",
   "metadata": {},
   "outputs": [],
   "source": [
    "df = pd.read_csv('temperature.xvg', sep='\\\\s+', header=None, names=['time','temperature'])\n",
    "df.plot('time')"
   ]
  },
  {
   "cell_type": "markdown",
   "id": "78c59d10",
   "metadata": {},
   "source": [
    "# Equilibration run - pressure"
   ]
  },
  {
   "cell_type": "code",
   "execution_count": null,
   "id": "a542db5d",
   "metadata": {},
   "outputs": [],
   "source": [
    "!cat ../input_files/file_assets/npt-charmm.mdp"
   ]
  },
  {
   "cell_type": "code",
   "execution_count": null,
   "id": "0dbaf42c",
   "metadata": {},
   "outputs": [],
   "source": [
    "!gmx grompp -f ../input_files/file_assets/npt-charmm.mdp -c nvt.gro -r nvt.gro -t nvt.cpt -p topol.top -o npt.tpr"
   ]
  },
  {
   "cell_type": "code",
   "execution_count": null,
   "id": "8409793e",
   "metadata": {},
   "outputs": [],
   "source": [
    "!gmx mdrun -ntmpi 1 -ntomp 8 -v -deffnm npt"
   ]
  },
  {
   "cell_type": "code",
   "execution_count": null,
   "id": "56bc3f4b",
   "metadata": {},
   "outputs": [],
   "source": [
    "!echo \"Pressure\" | gmx energy -f npt.edr -o pressure.xvg -xvg none"
   ]
  },
  {
   "cell_type": "code",
   "execution_count": null,
   "id": "70a5666d",
   "metadata": {},
   "outputs": [],
   "source": [
    "df = pd.read_csv('pressure.xvg', sep='\\\\s+', header=None, names=['time','pressure'])\n",
    "df.plot('time')"
   ]
  },
  {
   "cell_type": "code",
   "execution_count": null,
   "id": "b488ab0a",
   "metadata": {},
   "outputs": [],
   "source": [
    "!echo \"Density\" | gmx energy -f npt.edr -o density.xvg -xvg none"
   ]
  },
  {
   "cell_type": "code",
   "execution_count": null,
   "id": "cf6fda67",
   "metadata": {},
   "outputs": [],
   "source": [
    "df = pd.read_csv('density.xvg', sep='\\\\s+', header=None, names=['time','density'])\n",
    "df.plot('time')"
   ]
  },
  {
   "cell_type": "markdown",
   "id": "887da16e",
   "metadata": {},
   "source": [
    "# The \"production\" run"
   ]
  },
  {
   "cell_type": "code",
   "execution_count": null,
   "id": "25248a93",
   "metadata": {},
   "outputs": [],
   "source": [
    "!cat ../input_files/file_assets/md-charmm.mdp"
   ]
  },
  {
   "cell_type": "code",
   "execution_count": null,
   "id": "51e80522",
   "metadata": {},
   "outputs": [],
   "source": [
    "!gmx grompp -f ../input_files/file_assets/md-charmm.mdp -c npt.gro -t npt.cpt -p topol.top -o md.tpr"
   ]
  },
  {
   "cell_type": "code",
   "execution_count": null,
   "id": "3fc5f8cd",
   "metadata": {},
   "outputs": [],
   "source": [
    "!gmx mdrun -ntmpi 1 -ntomp 8 -v -deffnm md"
   ]
  },
  {
   "cell_type": "markdown",
   "id": "0b47aed7",
   "metadata": {},
   "source": [
    "# Analysis"
   ]
  },
  {
   "cell_type": "code",
   "execution_count": null,
   "id": "499a9958",
   "metadata": {},
   "outputs": [],
   "source": [
    "!gmx trjconv -h"
   ]
  },
  {
   "cell_type": "code",
   "execution_count": null,
   "id": "e56bd9ba",
   "metadata": {},
   "outputs": [],
   "source": [
    "!printf \"1\\n1\\n\" | gmx trjconv -s md.tpr -f md.xtc -o md_center.xtc -center -pbc whole"
   ]
  },
  {
   "cell_type": "code",
   "execution_count": null,
   "id": "038c5e8c",
   "metadata": {},
   "outputs": [],
   "source": [
    "traj = md.load(\"md_center.xtc\", top=\"2b42_Swissmodel_newbox.gro\")\n",
    "view = ng.show_mdtraj(traj)\n",
    "view"
   ]
  },
  {
   "cell_type": "markdown",
   "id": "f1ecda1e",
   "metadata": {},
   "source": [
    "## Check the minimum image convention"
   ]
  },
  {
   "cell_type": "code",
   "execution_count": null,
   "id": "ddb071c4",
   "metadata": {},
   "outputs": [],
   "source": [
    "!printf \"1\\n\" | gmx mindist -s md.tpr -f md_center.xtc -pi -od mindist.xvg "
   ]
  },
  {
   "cell_type": "markdown",
   "id": "0b575871",
   "metadata": {},
   "source": [
    "## Evaluate structural stability with RMSD"
   ]
  },
  {
   "cell_type": "code",
   "execution_count": null,
   "id": "3d5c3df4",
   "metadata": {},
   "outputs": [],
   "source": [
    "!printf \"4\\n1\\n\" | gmx rms -s em.tpr -f md_center.xtc -o rmsd_xray.xvg -tu ns -xvg none"
   ]
  },
  {
   "cell_type": "code",
   "execution_count": null,
   "id": "10028281",
   "metadata": {},
   "outputs": [],
   "source": [
    "df = pd.read_csv('rmsd_xray.xvg', sep='\\\\s+', header=None, names=['time','RMSD'])\n",
    "df.plot('time')"
   ]
  },
  {
   "cell_type": "markdown",
   "id": "144b3bb6",
   "metadata": {},
   "source": [
    "## Measure compactness with radius of gyration"
   ]
  },
  {
   "cell_type": "code",
   "execution_count": null,
   "id": "b43b67a4",
   "metadata": {},
   "outputs": [],
   "source": [
    "!echo \"1\" | gmx gyrate -f md_center.xtc -s md.tpr -o gyrate.xvg -xvg none"
   ]
  },
  {
   "cell_type": "code",
   "execution_count": null,
   "id": "7cc81700",
   "metadata": {},
   "outputs": [],
   "source": [
    "df = pd.read_csv('gyrate.xvg', sep='\\\\s+', header=None, names=['time','Rg'], usecols=[0, 1])\n",
    "df.plot('time')"
   ]
  },
  {
   "cell_type": "markdown",
   "id": "759ebb32",
   "metadata": {},
   "source": [
    "## Index files for more specific atom selection"
   ]
  },
  {
   "cell_type": "code",
   "execution_count": null,
   "id": "be712f94",
   "metadata": {},
   "outputs": [],
   "source": [
    "!printf \"h\\nq\\n\" | gmx make_ndx -f nvt.tpr -o"
   ]
  },
  {
   "cell_type": "code",
   "execution_count": null,
   "id": "b94f35be",
   "metadata": {},
   "outputs": [],
   "source": [
    "!printf \"splitch 1\\nq\\n\" | gmx make_ndx -f nvt.tpr -o chains_make_ndx.ndx"
   ]
  },
  {
   "cell_type": "code",
   "execution_count": null,
   "id": "a7016f53",
   "metadata": {},
   "outputs": [],
   "source": [
    "!printf \"group \"Protein\" and mol 1\\ngroup \"Protein\" and mol 2\" | gmx select -s nvt.tpr -on chains_select.ndx"
   ]
  },
  {
   "cell_type": "code",
   "execution_count": null,
   "id": "bf3d2984",
   "metadata": {},
   "outputs": [],
   "source": [
    "!printf \"17\\n18\\n\"| gmx hbond -f md.xtc -s md.tpr  -n chains_make_ndx.ndx -num hbnum_ndx.xvg -xvg none"
   ]
  },
  {
   "cell_type": "code",
   "execution_count": null,
   "id": "fa8bae8b",
   "metadata": {},
   "outputs": [],
   "source": [
    "!printf \"0\\n1\\n\"| gmx hbond -f md.xtc -s md.tpr -n chains_select.ndx -num hbnum.xvg -xvg none"
   ]
  },
  {
   "cell_type": "code",
   "execution_count": null,
   "id": "eab71d4a",
   "metadata": {},
   "outputs": [],
   "source": [
    "df = pd.read_csv('hbnum_ndx.xvg', sep='\\\\s+', header=None, names=['time','H-bonds'], usecols=[0, 1])\n",
    "df.plot('time')\n",
    "df = pd.read_csv('hbnum.xvg', sep='\\\\s+', header=None, names=['time','H-bonds'], usecols=[0, 1])\n",
    "df.plot('time')\n"
   ]
  }
 ],
 "metadata": {
  "kernelspec": {
   "display_name": "Python 3",
   "language": "python",
   "name": "python3"
  },
  "language_info": {
   "codemirror_mode": {
    "name": "ipython",
    "version": 3
   },
   "file_extension": ".py",
   "mimetype": "text/x-python",
   "name": "python",
   "nbconvert_exporter": "python",
   "pygments_lexer": "ipython3",
   "version": "3.12.9"
  }
 },
 "nbformat": 4,
 "nbformat_minor": 5
}
